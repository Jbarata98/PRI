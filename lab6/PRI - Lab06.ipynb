{
 "cells": [
  {
   "cell_type": "markdown",
   "metadata": {},
   "source": [
    "# Lab 6: Document classification"
   ]
  },
  {
   "cell_type": "markdown",
   "metadata": {},
   "source": [
    "## Load 20 Newsgroup dataset.\n",
    "You can find more information at http://qwone.com/~jason/20Newsgroups/\n",
    "\n",
    "Thee scikit-learn library already provides access to the 20 Newsgroups dataset. \n",
    "\n",
    "As an alternative to retrieve all the document collection, you can select a standard split of the collection into training and test sets."
   ]
  },
  {
   "cell_type": "code",
   "execution_count": 1,
   "metadata": {},
   "outputs": [],
   "source": [
    "from sklearn.datasets import fetch_20newsgroups\n",
    "train = fetch_20newsgroups(subset='train')\n",
    "test = fetch_20newsgroups(subset='test')"
   ]
  },
  {
   "cell_type": "markdown",
   "metadata": {},
   "source": [
    "You can see the first 10 documents in the dataset using train.data[:10] and the classes of those documents using train.target[:10]. You will notice that the classes are represented as numbers. To see the class names you can use: train.target_names."
   ]
  },
  {
   "cell_type": "code",
   "execution_count": 2,
   "metadata": {},
   "outputs": [
    {
     "data": {
      "text/plain": [
       "[\"From: lerxst@wam.umd.edu (where's my thing)\\nSubject: WHAT car is this!?\\nNntp-Posting-Host: rac3.wam.umd.edu\\nOrganization: University of Maryland, College Park\\nLines: 15\\n\\n I was wondering if anyone out there could enlighten me on this car I saw\\nthe other day. It was a 2-door sports car, looked to be from the late 60s/\\nearly 70s. It was called a Bricklin. The doors were really small. In addition,\\nthe front bumper was separate from the rest of the body. This is \\nall I know. If anyone can tellme a model name, engine specs, years\\nof production, where this car is made, history, or whatever info you\\nhave on this funky looking car, please e-mail.\\n\\nThanks,\\n- IL\\n   ---- brought to you by your neighborhood Lerxst ----\\n\\n\\n\\n\\n\",\n",
       " \"From: guykuo@carson.u.washington.edu (Guy Kuo)\\nSubject: SI Clock Poll - Final Call\\nSummary: Final call for SI clock reports\\nKeywords: SI,acceleration,clock,upgrade\\nArticle-I.D.: shelley.1qvfo9INNc3s\\nOrganization: University of Washington\\nLines: 11\\nNNTP-Posting-Host: carson.u.washington.edu\\n\\nA fair number of brave souls who upgraded their SI clock oscillator have\\nshared their experiences for this poll. Please send a brief message detailing\\nyour experiences with the procedure. Top speed attained, CPU rated speed,\\nadd on cards and adapters, heat sinks, hour of usage per day, floppy disk\\nfunctionality with 800 and 1.4 m floppies are especially requested.\\n\\nI will be summarizing in the next two days, so please add to the network\\nknowledge base if you have done the clock upgrade and haven't answered this\\npoll. Thanks.\\n\\nGuy Kuo <guykuo@u.washington.edu>\\n\",\n",
       " 'From: twillis@ec.ecn.purdue.edu (Thomas E Willis)\\nSubject: PB questions...\\nOrganization: Purdue University Engineering Computer Network\\nDistribution: usa\\nLines: 36\\n\\nwell folks, my mac plus finally gave up the ghost this weekend after\\nstarting life as a 512k way back in 1985.  sooo, i\\'m in the market for a\\nnew machine a bit sooner than i intended to be...\\n\\ni\\'m looking into picking up a powerbook 160 or maybe 180 and have a bunch\\nof questions that (hopefully) somebody can answer:\\n\\n* does anybody know any dirt on when the next round of powerbook\\nintroductions are expected?  i\\'d heard the 185c was supposed to make an\\nappearence \"this summer\" but haven\\'t heard anymore on it - and since i\\ndon\\'t have access to macleak, i was wondering if anybody out there had\\nmore info...\\n\\n* has anybody heard rumors about price drops to the powerbook line like the\\nones the duo\\'s just went through recently?\\n\\n* what\\'s the impression of the display on the 180?  i could probably swing\\na 180 if i got the 80Mb disk rather than the 120, but i don\\'t really have\\na feel for how much \"better\" the display is (yea, it looks great in the\\nstore, but is that all \"wow\" or is it really that good?).  could i solicit\\nsome opinions of people who use the 160 and 180 day-to-day on if its worth\\ntaking the disk size and money hit to get the active display?  (i realize\\nthis is a real subjective question, but i\\'ve only played around with the\\nmachines in a computer store breifly and figured the opinions of somebody\\nwho actually uses the machine daily might prove helpful).\\n\\n* how well does hellcats perform?  ;)\\n\\nthanks a bunch in advance for any info - if you could email, i\\'ll post a\\nsummary (news reading time is at a premium with finals just around the\\ncorner... :( )\\n--\\nTom Willis  \\\\  twillis@ecn.purdue.edu    \\\\    Purdue Electrical Engineering\\n---------------------------------------------------------------------------\\n\"Convictions are more dangerous enemies of truth than lies.\"  - F. W.\\nNietzsche\\n',\n",
       " 'From: jgreen@amber (Joe Green)\\nSubject: Re: Weitek P9000 ?\\nOrganization: Harris Computer Systems Division\\nLines: 14\\nDistribution: world\\nNNTP-Posting-Host: amber.ssd.csd.harris.com\\nX-Newsreader: TIN [version 1.1 PL9]\\n\\nRobert J.C. Kyanko (rob@rjck.UUCP) wrote:\\n> abraxis@iastate.edu writes in article <abraxis.734340159@class1.iastate.edu>:\\n> > Anyone know about the Weitek P9000 graphics chip?\\n> As far as the low-level stuff goes, it looks pretty nice.  It\\'s got this\\n> quadrilateral fill command that requires just the four points.\\n\\nDo you have Weitek\\'s address/phone number?  I\\'d like to get some information\\nabout this chip.\\n\\n--\\nJoe Green\\t\\t\\t\\tHarris Corporation\\njgreen@csd.harris.com\\t\\t\\tComputer Systems Division\\n\"The only thing that really scares me is a person with no sense of humor.\"\\n\\t\\t\\t\\t\\t\\t-- Jonathan Winters\\n',\n",
       " 'From: jcm@head-cfa.harvard.edu (Jonathan McDowell)\\nSubject: Re: Shuttle Launch Question\\nOrganization: Smithsonian Astrophysical Observatory, Cambridge, MA,  USA\\nDistribution: sci\\nLines: 23\\n\\nFrom article <C5owCB.n3p@world.std.com>, by tombaker@world.std.com (Tom A Baker):\\n>>In article <C5JLwx.4H9.1@cs.cmu.edu>, ETRAT@ttacs1.ttu.edu (Pack Rat) writes...\\n>>>\"Clear caution & warning memory.  Verify no unexpected\\n>>>errors. ...\".  I am wondering what an \"expected error\" might\\n>>>be.  Sorry if this is a really dumb question, but\\n> \\n> Parity errors in memory or previously known conditions that were waivered.\\n>    \"Yes that is an error, but we already knew about it\"\\n> I\\'d be curious as to what the real meaning of the quote is.\\n> \\n> tom\\n\\n\\nMy understanding is that the \\'expected errors\\' are basically\\nknown bugs in the warning system software - things are checked\\nthat don\\'t have the right values in yet because they aren\\'t\\nset till after launch, and suchlike. Rather than fix the code\\nand possibly introduce new bugs, they just tell the crew\\n\\'ok, if you see a warning no. 213 before liftoff, ignore it\\'.\\n\\n - Jonathan\\n\\n\\n',\n",
       " 'From: dfo@vttoulu.tko.vtt.fi (Foxvog Douglas)\\nSubject: Re: Rewording the Second Amendment (ideas)\\nOrganization: VTT\\nLines: 58\\n\\nIn article <1r1eu1$4t@transfer.stratus.com> cdt@sw.stratus.com (C. D. Tavares) writes:\\n>In article <1993Apr20.083057.16899@ousrvr.oulu.fi>, dfo@vttoulu.tko.vtt.fi (Foxvog Douglas) writes:\\n>> In article <1qv87v$4j3@transfer.stratus.com> cdt@sw.stratus.com (C. D. Tavares) writes:\\n>> >In article <C5n3GI.F8F@ulowell.ulowell.edu>, jrutledg@cs.ulowell.edu (John Lawrence Rutledge) writes:\\n>\\n>> >> The massive destructive power of many modern weapons, makes the\\n>> >> cost of an accidental or crimial usage of these weapons to great.\\n>> >> The weapons of mass destruction need to be in the control of\\n>> >> the government only.  Individual access would result in the\\n>> >> needless deaths of millions.  This makes the right of the people\\n>> >> to keep and bear many modern weapons non-existant.\\n\\n>> >Thanks for stating where you\\'re coming from.  Needless to say, I\\n>> >disagree on every count.\\n\\n>> You believe that individuals should have the right to own weapons of\\n>> mass destruction?  I find it hard to believe that you would support a \\n>> neighbor\\'s right to keep nuclear weapons, biological weapons, and nerve\\n>> gas on his/her property.  \\n\\n>> If we cannot even agree on keeping weapons of mass destruction out of\\n>> the hands of individuals, can there be any hope for us?\\n\\n>I don\\'t sign any blank checks.\\n\\nOf course.  The term must be rigidly defined in any bill.\\n\\n>When Doug Foxvog says \"weapons of mass destruction,\" he means CBW and\\n>nukes.  When Sarah Brady says \"weapons of mass destruction\" she means\\n>Street Sweeper shotguns and semi-automatic SKS rifles.  \\n\\nI doubt she uses this term for that.  You are using a quote allegedly\\nfrom her, can you back it up?\\n\\n>When John\\n>Lawrence Rutledge says \"weapons of mass destruction,\" and then immediately\\n>follows it with:\\n\\n>>> The US has thousands of people killed each year by handguns,\\n>>> this number can easily be reduced by putting reasonable restrictions\\n>>> on them.\\n\\n>...what does Rutledge mean by the term?\\n\\nI read the article as presenting first an argument about weapons of mass\\ndestruction (as commonly understood) and then switching to other topics.\\nThe first point evidently was to show that not all weapons should be\\nallowed, and then the later analysis was, given this understanding, to\\nconsider another class.\\n\\n>cdt@rocket.sw.stratus.com   --If you believe that I speak for my company,\\n>OR cdt@vos.stratus.com        write today for my special Investors\\' Packet...\\n\\n\\n\\n-- \\ndoug foxvog\\ndouglas.foxvog@vtt.fi\\n',\n",
       " 'From: bmdelane@quads.uchicago.edu (brian manning delaney)\\nSubject: Brain Tumor Treatment (thanks)\\nReply-To: bmdelane@midway.uchicago.edu\\nOrganization: University of Chicago\\nLines: 12\\n\\nThere were a few people who responded to my request for info on\\ntreatment for astrocytomas through email, whom I couldn\\'t thank\\ndirectly because of mail-bouncing probs (Sean, Debra, and Sharon).  So\\nI thought I\\'d publicly thank everyone.\\n\\nThanks! \\n\\n(I\\'m sure glad I accidentally hit \"rn\" instead of \"rm\" when I was\\ntrying to delete a file last September. \"Hmmm... \\'News?\\' What\\'s\\nthis?\"....)\\n\\n-Brian\\n',\n",
       " 'From: bgrubb@dante.nmsu.edu (GRUBB)\\nSubject: Re: IDE vs SCSI\\nOrganization: New Mexico State University, Las Cruces, NM\\nLines: 44\\nDistribution: world\\nNNTP-Posting-Host: dante.nmsu.edu\\n\\nDXB132@psuvm.psu.edu writes:\\n>In article <1qlbrlINN7rk@dns1.NMSU.Edu>, bgrubb@dante.nmsu.edu (GRUBB) says:\\n>>In PC Magazine April 27, 1993:29 \"Although SCSI is twice as fasst as ESDI,\\n>>20% faster than IDE, and support up to 7 devices its acceptance ...has   \\n>>long been stalled by incompatability problems and installation headaches.\"\\n                                                                      \\n>I love it when magazine writers make stupid statements like that re:      \\n>performance. Where do they get those numbers? I\\'ll list the actual\\n>performance ranges, which should convince anyone that such a               \\n>statement is absurd:                                                     \\n>SCSI-I ranges from 0-5MB/s.                                                \\n>SCSI-II ranges from 0-40MB/s.            \\n>IDE ranges from 0-8.3MB/s.                          \\n>ESDI is always 1.25MB/s (although there are some non-standard versions)\\nALL this shows is that YOU don\\'t know much about SCSI.\\n\\nSCSI-1 {with a SCSI-1 controler chip} range is indeed 0-5MB/s\\nand that is ALL you have right about SCSI\\nSCSI-1 {With a SCSI-2 controller chip}: 4-6MB/s with 10MB/s burst {8-bit}\\n Note the INCREASE in SPEED, the Mac Quadra uses this version of SCSI-1\\n so it DOES exist. Some PC use this set up too.\\nSCSI-2 {8-bit/SCSI-1 mode}:          4-6MB/s with 10MB/s burst\\nSCSI-2 {16-bit/wide or fast mode}:  8-12MB/s with 20MB/s burst\\nSCSI-2 {32-bit/wide AND fast}:     15-20MB/s with 40MB/s burst\\n \\nBy your OWN data the \"Although SCSI is twice as fast as ESDI\" is correct\\nWith a SCSI-2 controller chip SCSI-1 can reach 10MB/s which is indeed\\n\"20% faster than IDE\" {120% of 8.3 is 9.96}. ALL these SCSI facts have been\\nposted to this newsgroup in my Mac & IBM info sheet {available by FTP on \\nsumex-aim.stanford.edu (36.44.0.6) in the info-mac/report as \\nmac-ibm-compare[version #].txt (It should be 173 but 161 may still be there)}\\n\\nPart of this problem is both Mac and IBM PC are inconsiant about what SCSI\\nis which.  Though it is WELL documented that the Quadra has a SCSI-2 chip\\nan Apple salesperson said \"it uses a fast SCSI-1 chip\" {Not at a 6MB/s,\\n10MB/s burst it does not. SCSI-1 is 5MB/s maximum synchronous and Quadra\\nuses ANsynchronous SCSI which is SLOWER}  It seems that Mac and IBM see\\nSCSI-1 interface and think \\'SCSI-1\\' when it maybe a SCSI-1 interface driven\\nin the machine by a SCSi-2 controller chip in 8-bit mode {Which is MUCH\\nFASTER then true SCSI-1 can go}.\\n\\nDon\\'t slam an article because you don\\'t understand what is going on.\\nOne reference for the Quadra\\'s SCSI-2 controller chip is \\n(Digital Review, Oct 21, 1991 v8 n33 p8(1)).\\n',\n",
       " 'From: holmes7000@iscsvax.uni.edu\\nSubject: WIn 3.0 ICON HELP PLEASE!\\nOrganization: University of Northern Iowa\\nLines: 10\\n\\nI have win 3.0 and downloaded several icons and BMP\\'s but I can\\'t figure out\\nhow to change the \"wallpaper\" or use the icons.  Any help would be appreciated.\\n\\n\\nThanx,\\n\\n-Brando\\n\\nPS Please E-mail me\\n\\n',\n",
       " \"From: kerr@ux1.cso.uiuc.edu (Stan Kerr)\\nSubject: Re: Sigma Designs Double up??\\nArticle-I.D.: ux1.C52u8x.B62\\nOrganization: University of Illinois at Urbana\\nLines: 29\\n\\njap10@po.CWRU.Edu (Joseph A. Pellettiere) writes:\\n\\n\\n>\\tI am looking for any information about the Sigma Designs\\n>\\tdouble up board.  All I can figure out is that it is a\\n>\\thardware compression board that works with AutoDoubler, but\\n>\\tI am not sure about this.  Also how much would one cost?\\n\\nI've had the board for over a year, and it does work with Diskdoubler,\\nbut not with Autodoubler, due to a licensing problem with Stac Technologies,\\nthe owners of the board's compression technology. (I'm writing this\\nfrom memory; I've lost the reference. Please correct me if I'm wrong.)\\n\\nUsing the board, I've had problems with file icons being lost, but it's\\nhard to say whether it's the board's fault or something else; however,\\nif I decompress the troubled file and recompress it without the board,\\nthe icon usually reappears. Because of the above mentioned licensing\\nproblem, the freeware expansion utility DD Expand will not decompress\\na board-compressed file unless you have the board installed.\\n\\nSince Stac has its own product now, it seems unlikely that the holes\\nin Autodoubler/Diskdoubler related to the board will be fixed.\\nWhich is sad, and makes me very reluctant to buy Stac's product since\\nthey're being so stinky. (But hey, that's competition.)\\n-- \\n\\nStan Kerr    \\nComputing & Communications Services Office, U of Illinois/Urbana\\nPhone: 217-333-5217  Email: stankerr@uiuc.edu   \\n\"]"
      ]
     },
     "execution_count": 2,
     "metadata": {},
     "output_type": "execute_result"
    }
   ],
   "source": [
    "train.data[:10]"
   ]
  },
  {
   "cell_type": "code",
   "execution_count": 3,
   "metadata": {},
   "outputs": [
    {
     "data": {
      "text/plain": [
       "array([ 7,  4,  4,  1, 14, 16, 13,  3,  2,  4])"
      ]
     },
     "execution_count": 3,
     "metadata": {},
     "output_type": "execute_result"
    }
   ],
   "source": [
    "train.target[:10]"
   ]
  },
  {
   "cell_type": "markdown",
   "metadata": {},
   "source": [
    "## 1. Classifying the 20 NewsGroup collection\n"
   ]
  },
  {
   "cell_type": "code",
   "execution_count": 4,
   "metadata": {},
   "outputs": [],
   "source": [
    "from sklearn import metrics\n",
    "from sklearn.feature_extraction.text import TfidfVectorizer\n",
    "\n",
    "def vectorize(train_data, test_data, min_df=1, max_df=1.0, use_idf=False):\n",
    "    '''\n",
    "    Convert a collection of raw documents to a matrix of TF-IDF features.\n",
    "    Equivalent to CountVectorizer followed by TfidfTransformer.\n",
    "    '''\n",
    "\n",
    "    vectorizer = TfidfVectorizer(min_df=min_df, max_df=max_df, use_idf=use_idf)\n",
    "    trainvec = vectorizer.fit_transform(train_data)\n",
    "    testvec = vectorizer.transform(test_data)\n",
    "\n",
    "    return trainvec, testvec\n",
    "\n",
    "\n",
    "def classify(classifier, trainvec, train_target, testvec):\n",
    "    classifier.fit(X=trainvec, y=train_target)\n",
    "    classes = classifier.predict(testvec)\n",
    "    return classes\n",
    "\n",
    "\n",
    "def evaluate(test_target, classes):\n",
    "    print('Accuracy score: {}'.format(metrics.accuracy_score(test_target, classes)))\n",
    "    print()\n",
    "    print(metrics.classification_report(test_target, classes))"
   ]
  },
  {
   "cell_type": "markdown",
   "metadata": {},
   "source": [
    "### 1.1. Implement a classifier for the 20 Newsgroups collection and measure its performance.\n",
    "You can use for instance a Multinomial Naïve Bayes classifier, available in scikit-learn."
   ]
  },
  {
   "cell_type": "code",
   "execution_count": 5,
   "metadata": {},
   "outputs": [
    {
     "name": "stdout",
     "output_type": "stream",
     "text": [
      "Accuracy score: 0.7052575677110993\n",
      "\n",
      "              precision    recall  f1-score   support\n",
      "\n",
      "           0       0.85      0.24      0.37       319\n",
      "           1       0.71      0.60      0.65       389\n",
      "           2       0.79      0.65      0.71       394\n",
      "           3       0.63      0.75      0.69       392\n",
      "           4       0.86      0.68      0.76       385\n",
      "           5       0.88      0.68      0.77       395\n",
      "           6       0.90      0.72      0.80       390\n",
      "           7       0.71      0.92      0.80       396\n",
      "           8       0.84      0.91      0.87       398\n",
      "           9       0.86      0.85      0.86       397\n",
      "          10       0.90      0.93      0.91       399\n",
      "          11       0.52      0.96      0.67       396\n",
      "          12       0.78      0.52      0.63       393\n",
      "          13       0.82      0.76      0.79       396\n",
      "          14       0.83      0.81      0.82       394\n",
      "          15       0.34      0.98      0.51       398\n",
      "          16       0.66      0.80      0.73       364\n",
      "          17       0.96      0.72      0.82       376\n",
      "          18       1.00      0.17      0.29       310\n",
      "          19       1.00      0.01      0.02       251\n",
      "\n",
      "    accuracy                           0.71      7532\n",
      "   macro avg       0.79      0.68      0.67      7532\n",
      "weighted avg       0.79      0.71      0.69      7532\n",
      "\n"
     ]
    }
   ],
   "source": [
    "from sklearn.naive_bayes import MultinomialNB\n",
    "trainvec, testvec = vectorize(train.data, test.data, use_idf=False)\n",
    "classes = classify(MultinomialNB(), trainvec, train.target, testvec)\n",
    "evaluate(test.target, classes)"
   ]
  },
  {
   "cell_type": "markdown",
   "metadata": {},
   "source": [
    "### 1.2. Try to improve the classification by:\n",
    "\n",
    "(a) Removing very rare words (e.g. words that occur less than 2 times) or very frequent words (e.g. words that occur in more than 90% of the documents) using the Vectorizer facilities provided by scikit-learn.\n",
    "\n",
    "See: https://scikit-learn.org/stable/modules/generated/sklearn.feature_extraction.text.TfidfVectorizer.html\n",
    "\n",
    "Attention:\n",
    "\n",
    "* **max_df: float or int, default=1.0** When building the vocabulary ignore terms that have a document frequency strictly higher than the given threshold. If float in range [0.0, 1.0], the parameter represents a proportion of documents, integer absolute counts.\n",
    "\n",
    "\n",
    "* **min_df: float or int, default=1** When building the vocabulary ignore terms that have a document frequency strictly lower than the given threshold. If float in range of [0.0, 1.0], the parameter represents a proportion of documents, integer absolute counts.\n",
    "\n"
   ]
  },
  {
   "cell_type": "code",
   "execution_count": 8,
   "metadata": {},
   "outputs": [
    {
     "name": "stdout",
     "output_type": "stream",
     "text": [
      "Accuracy score: 0.7603558151885289\n",
      "\n",
      "              precision    recall  f1-score   support\n",
      "\n",
      "           0       0.51      0.83      0.64       319\n",
      "           1       0.80      0.64      0.71       389\n",
      "           2       0.68      0.63      0.65       394\n",
      "           3       0.49      0.77      0.60       392\n",
      "           4       0.78      0.73      0.75       385\n",
      "           5       0.74      0.73      0.74       395\n",
      "           6       0.80      0.83      0.82       390\n",
      "           7       0.92      0.75      0.83       396\n",
      "           8       0.94      0.90      0.92       398\n",
      "           9       0.85      0.88      0.87       397\n",
      "          10       0.94      0.92      0.93       399\n",
      "          11       0.76      0.91      0.83       396\n",
      "          12       0.78      0.57      0.66       393\n",
      "          13       0.69      0.81      0.74       396\n",
      "          14       0.91      0.84      0.87       394\n",
      "          15       0.88      0.82      0.85       398\n",
      "          16       0.75      0.73      0.74       364\n",
      "          17       0.93      0.72      0.81       376\n",
      "          18       0.66      0.59      0.62       310\n",
      "          19       0.68      0.43      0.53       251\n",
      "\n",
      "    accuracy                           0.76      7532\n",
      "   macro avg       0.77      0.75      0.76      7532\n",
      "weighted avg       0.78      0.76      0.76      7532\n",
      "\n"
     ]
    }
   ],
   "source": [
    "from sklearn.naive_bayes import MultinomialNB\n",
    "trainvec, testvec = vectorize(train.data, test.data, min_df=2, max_df=0.9, use_idf=False)\n",
    "classes = classify(Perceptron(), trainvec, train.target, testvec)\n",
    "evaluate(test.target, classes)"
   ]
  },
  {
   "cell_type": "markdown",
   "metadata": {},
   "source": [
    "(b) Compare the performance against alternative classification algorithms, such as:\n",
    "\n",
    "* a nearest neighbour classifier (sklearn.neighbors.KNeighborsClassifier)\n",
    "* the perceptron algorithm (sklearn.linear model.Perceptron)\n",
    "* support vector machines (sklearn.svm.LinearSVC)"
   ]
  },
  {
   "cell_type": "code",
   "execution_count": 7,
   "metadata": {},
   "outputs": [
    {
     "name": "stdout",
     "output_type": "stream",
     "text": [
      "Using MultinomialNB() as the classifier.\n",
      "Accuracy score: 0.7052575677110993\n",
      "\n",
      "              precision    recall  f1-score   support\n",
      "\n",
      "           0       0.85      0.24      0.37       319\n",
      "           1       0.71      0.60      0.65       389\n",
      "           2       0.79      0.65      0.71       394\n",
      "           3       0.63      0.75      0.69       392\n",
      "           4       0.86      0.68      0.76       385\n",
      "           5       0.88      0.68      0.77       395\n",
      "           6       0.90      0.72      0.80       390\n",
      "           7       0.71      0.92      0.80       396\n",
      "           8       0.84      0.91      0.87       398\n",
      "           9       0.86      0.85      0.86       397\n",
      "          10       0.90      0.93      0.91       399\n",
      "          11       0.52      0.96      0.67       396\n",
      "          12       0.78      0.52      0.63       393\n",
      "          13       0.82      0.76      0.79       396\n",
      "          14       0.83      0.81      0.82       394\n",
      "          15       0.34      0.98      0.51       398\n",
      "          16       0.66      0.80      0.73       364\n",
      "          17       0.96      0.72      0.82       376\n",
      "          18       1.00      0.17      0.29       310\n",
      "          19       1.00      0.01      0.02       251\n",
      "\n",
      "    accuracy                           0.71      7532\n",
      "   macro avg       0.79      0.68      0.67      7532\n",
      "weighted avg       0.79      0.71      0.69      7532\n",
      "\n",
      "Using KNeighborsClassifier() as the classifier.\n",
      "Accuracy score: 0.40839086563993626\n",
      "\n",
      "              precision    recall  f1-score   support\n",
      "\n",
      "           0       0.18      0.55      0.27       319\n",
      "           1       0.36      0.34      0.35       389\n",
      "           2       0.46      0.31      0.38       394\n",
      "           3       0.46      0.35      0.40       392\n",
      "           4       0.51      0.24      0.33       385\n",
      "           5       0.40      0.49      0.44       395\n",
      "           6       0.75      0.43      0.55       390\n",
      "           7       0.52      0.36      0.43       396\n",
      "           8       0.75      0.53      0.62       398\n",
      "           9       0.63      0.34      0.44       397\n",
      "          10       0.74      0.49      0.59       399\n",
      "          11       0.40      0.61      0.49       396\n",
      "          12       0.62      0.20      0.30       393\n",
      "          13       0.42      0.25      0.31       396\n",
      "          14       0.75      0.37      0.49       394\n",
      "          15       0.31      0.52      0.39       398\n",
      "          16       0.46      0.50      0.48       364\n",
      "          17       0.31      0.56      0.40       376\n",
      "          18       0.22      0.45      0.30       310\n",
      "          19       0.35      0.27      0.31       251\n",
      "\n",
      "    accuracy                           0.41      7532\n",
      "   macro avg       0.48      0.41      0.41      7532\n",
      "weighted avg       0.49      0.41      0.42      7532\n",
      "\n",
      "Using Perceptron() as the classifier.\n",
      "Accuracy score: 0.7725703664365374\n",
      "\n",
      "              precision    recall  f1-score   support\n",
      "\n",
      "           0       0.78      0.69      0.73       319\n",
      "           1       0.82      0.61      0.70       389\n",
      "           2       0.68      0.64      0.66       394\n",
      "           3       0.62      0.71      0.66       392\n",
      "           4       0.83      0.69      0.75       385\n",
      "           5       0.81      0.74      0.77       395\n",
      "           6       0.80      0.85      0.82       390\n",
      "           7       0.72      0.91      0.80       396\n",
      "           8       0.97      0.85      0.91       398\n",
      "           9       0.75      0.91      0.82       397\n",
      "          10       0.93      0.90      0.92       399\n",
      "          11       0.74      0.91      0.81       396\n",
      "          12       0.75      0.52      0.62       393\n",
      "          13       0.76      0.80      0.78       396\n",
      "          14       0.89      0.88      0.88       394\n",
      "          15       0.83      0.88      0.86       398\n",
      "          16       0.56      0.90      0.69       364\n",
      "          17       0.86      0.88      0.87       376\n",
      "          18       0.92      0.45      0.61       310\n",
      "          19       0.65      0.57      0.61       251\n",
      "\n",
      "    accuracy                           0.77      7532\n",
      "   macro avg       0.78      0.76      0.76      7532\n",
      "weighted avg       0.79      0.77      0.77      7532\n",
      "\n",
      "Using LinearSVC() as the classifier.\n",
      "Accuracy score: 0.8251460435475305\n",
      "\n",
      "              precision    recall  f1-score   support\n",
      "\n",
      "           0       0.75      0.75      0.75       319\n",
      "           1       0.73      0.77      0.75       389\n",
      "           2       0.73      0.70      0.71       394\n",
      "           3       0.72      0.70      0.71       392\n",
      "           4       0.79      0.83      0.81       385\n",
      "           5       0.85      0.72      0.78       395\n",
      "           6       0.82      0.89      0.85       390\n",
      "           7       0.88      0.88      0.88       396\n",
      "           8       0.95      0.94      0.94       398\n",
      "           9       0.90      0.92      0.91       397\n",
      "          10       0.94      0.97      0.96       399\n",
      "          11       0.92      0.93      0.93       396\n",
      "          12       0.75      0.76      0.75       393\n",
      "          13       0.88      0.81      0.85       396\n",
      "          14       0.91      0.92      0.92       394\n",
      "          15       0.81      0.95      0.88       398\n",
      "          16       0.71      0.90      0.79       364\n",
      "          17       0.93      0.88      0.90       376\n",
      "          18       0.77      0.58      0.66       310\n",
      "          19       0.68      0.52      0.59       251\n",
      "\n",
      "    accuracy                           0.83      7532\n",
      "   macro avg       0.82      0.82      0.82      7532\n",
      "weighted avg       0.83      0.83      0.82      7532\n",
      "\n"
     ]
    }
   ],
   "source": [
    "from sklearn.naive_bayes import MultinomialNB\n",
    "from sklearn.neighbors import KNeighborsClassifier\n",
    "from sklearn.linear_model import Perceptron\n",
    "from sklearn.svm import LinearSVC\n",
    "\n",
    "classifiers = [MultinomialNB(), KNeighborsClassifier(), Perceptron(), LinearSVC()]\n",
    "\n",
    "for classifier in classifiers:\n",
    "    print('Using {} as the classifier.'.format(classifier))\n",
    "    trainvec, testvec = vectorize(train.data, test.data, use_idf=False)\n",
    "    classes = classify(classifier, trainvec, train.target, testvec)\n",
    "    evaluate(test.target, classes)"
   ]
  }
 ],
 "metadata": {
  "kernelspec": {
   "display_name": "Python 3",
   "language": "python",
   "name": "python3"
  },
  "language_info": {
   "codemirror_mode": {
    "name": "ipython",
    "version": 3
   },
   "file_extension": ".py",
   "mimetype": "text/x-python",
   "name": "python",
   "nbconvert_exporter": "python",
   "pygments_lexer": "ipython3",
   "version": "3.7.4"
  }
 },
 "nbformat": 4,
 "nbformat_minor": 4
}