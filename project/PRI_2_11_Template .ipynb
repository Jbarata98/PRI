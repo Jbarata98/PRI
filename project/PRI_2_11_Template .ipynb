{
 "cells": [
  {
   "cell_type": "markdown",
   "metadata": {},
   "source": [
    "This implementation is from group 11, composed by:\n",
    "\n",
    "- Carolina Vitorino 86394\n",
    "- João Barata 86450\n",
    "- Tiago Mesquita 86520\n",
    "\n",
    "\n",
    "This Notebook showcases the functional part of the second delivery. In each section we  present the function and a set of outputs. After each funtion we will mention the structure and the meaning of each input and output. Alternatively, you can include a standard function signature\n"
   ]
  },
  {
   "cell_type": "code",
   "execution_count": null,
   "metadata": {},
   "outputs": [],
   "source": []
  },
  {
   "cell_type": "code",
   "execution_count": 1,
   "metadata": {
    "scrolled": false
   },
   "outputs": [],
   "source": [
    "%%javascript\n",
    "// IPython.OutputArea.auto_scroll_threshold = 9999;"
   ]
  },
  {
   "cell_type": "markdown",
   "metadata": {},
   "source": [
    "3 - Graph IR System"
   ]
  },
  {
   "cell_type": "code",
   "execution_count": 2,
   "metadata": {},
   "outputs": [
    {
     "name": "stdout",
     "output_type": "stream",
     "text": [
      "Directory \"rcv1\" already exists, no extraction needed.\n"
     ]
    },
    {
     "name": "stderr",
     "output_type": "stream",
     "text": [
      "[nltk_data] Downloading package wordnet to C:\\Users\\Tiago\n",
      "[nltk_data]     Mesquita\\AppData\\Roaming\\nltk_data...\n",
      "[nltk_data]   Package wordnet is already up-to-date!\n",
      "READING QRELS       : 100%|██████████| 5127/5127 [00:00<00:00, 1025523.23it/s]\n",
      "READING QRELS       : 100%|██████████| 37556/37556 [00:00<00:00, 1121092.05it/s]\n"
     ]
    },
    {
     "name": "stdout",
     "output_type": "stream",
     "text": [
      "\n",
      "\n",
      "PARSING TRAIN SET...\n",
      "rcv1_eval_train.json found, loading them...\n",
      "\n",
      "\n",
      "PARSING TEST SET...\n",
      "rcv1_eval_test.json found, loading them...\n",
      "Classification results already exist, loading from file (\"classification_results/eval_mlp_tf-idf.json\")...\n",
      "graph nodes: ['105780', '106287', '106455', '110886', '117182', '119150', '120390', '120406', '121043', '124025', '124921', '125475', '133961', '134445', '151221', '152376', '154699', '154700', '154738', '154758', '155488', '155528', '155548', '155572', '166939', '167306', '169979', '170614', '177044', '177049', '177059', '177087', '177089', '177290', '177319', '177364', '177644', '177661', '177662', '177664', '186737', '197112', '197235', '197777', '197943', '203547', '203698', '210140', '210339', '213148', '213174', '213257', '213507', '214554', '215234', '215314', '216068', '217359', '217627', '217898', '218339', '221116', '221126', '221237', '221267', '221364', '221378', '221968', '221983', '222022', '222027', '222908', '223076', '223082', '223421', '223487', '223515', '223569', '223711', '223712', '223713', '223734', '224289', '224369', '224371', '224384', '224391', '225139', '225221', '225227', '225231', '225309', '225310', '225430', '225431', '225481', '225733', '225738', '225750', '225764', '225773', '225838', '225842', '225854', '225874', '225894', '225904', '225915', '225937', '226420', '226441', '226448', '226857', '227368', '227460', '228544', '228774', '229012', '229439', '229492', '229516', '229539', '229630', '229631', '230389', '231176', '231545', '231642', '231877', '231932', '232368', '232397', '232460', '232519', '234473', '234516', '234539', '234565', '234867', '234868', '235432', '235433', '236083', '240223', '240968', '240996', '241006', '241446', '241497', '241853', '241878', '241879', '242423', '243516', '243766', '243773', '243779', '243811', '243822', '243994', '244000', '244135', '244137', '244138', '244427', '244473', '244476', '244497', '246795', '246829', '247026', '247078', '248116', '248152', '249675', '250353', '250422', '250425', '250461', '250484', '250503', '250662', '252666', '254895', '255018', '255367', '256001', '256009', '256110', '256160', '256181', '256186', '256476', '256634', '256641', '256654', '256682', '257144', '257697', '257758', '259316', '259881', '261761', '265288', '265293', '265355', '265479', '265939', '267106', '267114', '267152', '270942', '270985', '271465', '271833', '279205', '279603', '287129', '296230', '296676', '296679', '296683', '296687', '296692', '296699', '296702', '296732', '296897', '297112', '297113', '297118', '297458', '297521', '297526', '297527', '297529', '297539', '297552', '297556', '297652', '297679', '298464', '299488', '299502', '299672', '299805', '300152', '300155', '300182', '300259', '300302', '300306', '300319', '300345', '300788', '300796', '300809', '300816', '300817', '300820', '300863', '300869', '300870', '300871', '301298', '301845', '301851', '301955', '303467', '306890', '309747', '331346', '345736', '381700', '382548', '401156', '401286', '401478', '401749', '406130', '443012', '443014', '459721', '459745', '472578', '473425', '479305', '482620', '483682', '537822', '560724', '660670', '665746', '666754', '674271', '719431', '732897', '735455', '738792', '741144', '752441', '762780', '791399', '792750', '794714', '794736', '806659', '88903', '88993', '89905', '91489', '91543', '95016', '98275', '100230', '102948', '103547', '105574', '105622', '105942', '106273', '106284', '108529', '112740', '113232', '114482', '114494', '114498', '114569', '115132', '115157', '118177', '118879', '121586', '124874', '126969', '128735', '129324', '129326', '129327', '129330', '129343', '166893', '169649', '174157', '182644', '189412', '200127', '202913', '203413', '205311', '205403', '207778', '208778', '217655', '219122', '225239', '232420', '240208', '240964', '240975', '246629', '246749', '246814', '255362', '256125', '257830', '261778', '272262', '273955', '275311', '279201', '279587', '279608', '285828', '286739', '287139', '287679', '296677', '296681', '297481', '300281', '300396', '301274', '301810', '303066', '309098', '310036', '313236', '315104', '315793', '315864', '325095', '325717', '326117', '342096', '349461', '370624', '385087', '394144', '394343', '396299', '401516', '407790', '409325', '410531', '413701', '413753', '424127', '424144', '424203', '424230', '424734', '427078', '427711', '428750', '428754', '428789', '443110', '463684', '464398', '466946', '473315', '474646', '497927', '505511', '507927', '510233', '511178', '515025', '520902', '548365', '548532', '557024', '558710', '559936', '564032', '595523', '602886', '613072', '620576', '623611', '623667', '624357', '626789', '626798', '634317', '645871', '645882', '653344', '654413', '660565', '667368', '670522', '678474', '680411', '680510', '687268', '689836', '710849', '741679', '754671', '795330', '800745', '804728', '809809', '88024', '110545', '156679', '193231', '193232', '193233', '193237', '193238', '194809', '197663', '202020', '202414', '203933', '227970', '356905', '377903', '381864', '396140', '399568', '422576', '422587', '445266', '448658', '484879', '486745', '558593', '592556', '613946', '616413', '623805', '624446', '660607', '661939', '661995', '667565', '667877', '671658', '671661', '694601', '700384', '724735', '728884', '730718', '730725', '732293', '744242', '744377', '749879', '749967', '749991', '753564', '798115', '803561', '803786', '803813', '804134', '804135', '804165', '805034', '805547', '807923', '126950', '126991', '193943', '206994', '207019', '218934', '227394', '229479', '245680', '250795', '257145', '257680', '333470', '373539', '423372', '477214', '493623', '618751', '661421', '668188', '741163', '743825', '743826', '743833', '799824', '810308', '88529', '89378', '92803', '92809', '94364', '215566', '219338', '220677', '287113', '287835', '291066', '291551', '291859', '329494', '337959', '359470', '360333', '363253', '377197', '417897', '422431', '422441', '426862', '439843', '443413', '444863', '468348', '468511', '471267', '479121', '552618', '560414', '572145', '572438', '623557', '644539', '665739', '684832', '698948', '705136', '718007', '757461', '757753', '758785', '760455', '768415', '769542', '773603', '795395', '797435', '126754', '173118', '303892', '304876', '305913', '314966', '328080', '358289', '360969', '372569', '391479', '408498', '421778', '442956', '450220', '510054', '514768', '556247', '620532', '626895', '644035', '670548', '671519', '680502', '683332', '683333', '687262', '689674', '695084', '733739', '765242', '89021', '103549', '120235', '158800', '170509', '179644', '179676', '180820', '184085', '184747', '208815', '220935', '221136', '233525', '261987', '265566', '294002', '297528', '313442', '328668', '338136', '362730', '365165', '377501', '421630', '460486', '524534', '565352', '613461', '717105', '717356', '722589', '737031', '740999', '741005', '743695', '754155', '191540', '579387', '581538', '582747', '589522', '595994', '621239', '636241', '713232', '713457', '715366', '720152', '722973', '757579', '788422', '96518', '108293', '114370', '137122', '153549', '154651', '155566', '156956', '160761', '180436', '182635', '182662', '189247', '193382', '193454', '194838', '206676', '213092', '240826', '242400', '253277', '269927', '269958', '270066', '270147', '271763', '271764', '271781', '271792', '282610', '293870', '300125', '337830', '340815', '341045', '341929', '341932', '349367', '349370', '357173', '358279', '358284', '364974', '369741', '370580', '370588', '372810', '373501', '380632', '384015', '394206', '399727', '418382', '453370', '479187', '488335', '491272', '509743', '520740', '527905', '529964', '582725', '583906', '586868', '587548', '587550', '599135', '674109', '775796', '799800', '800237', '800309', '800618', '807509', '91966', '97851', '98705', '103487', '121452', '124732', '169683', '174886', '179647', '186964', '271391', '272224', '275102', '275105', '305754', '318761', '323366', '373399', '383463', '418826', '450962', '457212', '471968', '473059', '474555', '474558', '475801', '681126', '767690', '767722', '780595', '203230', '304975', '497077', '500084', '539386', '610137', '659732', '665737', '683198', '702024', '702703', '712249', '713312', '729378', '807709', '98049', '110430', '110460', '121622', '163295', '224256', '322047', '324688', '386412', '415271', '415278', '415285', '415370', '440600', '467855', '499877', '710794', '715038', '715039', '715093', '93724', '95053', '102529', '108759', '142234', '161532', '208545', '229955', '241348', '253183', '268333', '275636', '307752', '312574', '313524', '318721', '318750', '324596', '329519', '329533', '353098', '409855', '410039', '411300', '411322', '412442', '446096', '447060', '447326', '447668', '447719', '459053', '464992', '470975', '471085', '471098', '477820', '493816', '499749', '517261', '517345', '517547', '517672', '519140', '571085', '653086', '653899', '654655', '659950', '660798', '660806', '680168', '687119', '687135', '692002', '696710', '700107', '701900', '730759', '736315', '736369', '752519', '753683', '753687', '753713', '762027', '765885', '795193', '200980', '207066', '211002', '233499', '248136', '248594', '255406', '255581', '261473', '305709', '320982', '329898', '345137', '358721', '413684', '415107', '415789', '415984', '416637', '435067', '435683', '463508', '512662', '525157', '556277', '612684', '619511', '636207', '672274', '674351', '678435', '678730', '679021', '679153', '680555', '680562', '680569', '680612', '680640', '680937', '682004', '683503', '683539', '683544', '685361', '686480', '686550', '687024', '687633', '689721', '690540', '693285', '693286', '693527', '694238', '706333', '717774', '725335', '735923', '740081', '753080', '793093', '90151', '106274', '131511', '136910', '145785', '148403', '150514', '157847', '160050', '163760', '164654', '166628', '174071', '176969', '212469', '228753', '249396', '268194', '268990', '276212', '278184', '299267', '301255', '307851', '336773', '336909', '337797', '337939', '342005', '378391', '392732', '400124', '404552', '431291', '437542', '443756', '447360', '450155', '466537', '498799', '503801', '517804', '546920', '546991']\n"
     ]
    }
   ],
   "source": [
    "import graphIR as graph\n",
    "\n",
    "#(a)\n",
    "\n",
    "#build_graph(D,sim,$\\theta$,args) (your implementation)\n",
    "\n",
    "graph.FUNCTIONALITY = 'a'\n",
    "graph.main()\n",
    "\n",
    "#graph = build_graph(docs['test'], sim=cosine_similarity, th=THRESHOLD)\n",
    "#print(\"graph nodes:\", graph.nodes)"
   ]
  },
  {
   "cell_type": "markdown",
   "metadata": {},
   "source": [
    "__@input:__\n",
    "\n",
    "__D__: *dict* w/ structure:\n",
    "\n",
    "    {\n",
    "        \"itemid\": {\n",
    "            \"headline\": \"(headline text)\",\n",
    "            \"p\": \"(p text)\",\n",
    "            \"dateline\": \"(dateline text)\",\n",
    "            \"byline\": \"(byline text)\"\n",
    "        },\n",
    "        ...\n",
    "    }\n",
    "\n",
    "__args:__\n",
    "* __similarity__: *Cosine Similarity*;\n",
    "* __theta__: *0.5*\n",
    "\n",
    "\n",
    "__@output:__\n",
    "\n",
    "**graph**: graph with nodes representing documents;"
   ]
  },
  {
   "cell_type": "code",
   "execution_count": 3,
   "metadata": {
    "pycharm": {
     "is_executing": true
    }
   },
   "outputs": [
    {
     "name": "stdout",
     "output_type": "stream",
     "text": [
      "Directory \"rcv1\" already exists, no extraction needed.\n"
     ]
    },
    {
     "name": "stderr",
     "output_type": "stream",
     "text": [
      "READING QRELS       : 100%|██████████| 5127/5127 [00:00<00:00, 932168.56it/s]\n",
      "READING QRELS       : 100%|██████████| 37556/37556 [00:00<00:00, 1043228.74it/s]"
     ]
    },
    {
     "name": "stdout",
     "output_type": "stream",
     "text": [
      "\n",
      "\n",
      "PARSING TRAIN SET...\n",
      "rcv1_eval_train.json found, loading them...\n",
      "\n",
      "\n",
      "PARSING TEST SET...\n",
      "rcv1_eval_test.json found, loading them...\n"
     ]
    },
    {
     "name": "stderr",
     "output_type": "stream",
     "text": [
      "\n"
     ]
    },
    {
     "name": "stdout",
     "output_type": "stream",
     "text": [
      "Classification results already exist, loading from file (\"classification_results/eval_mlp_tf-idf.json\")...\n",
      "{'R101': {'vanilla_pk': {'244000': 0.004334010124773836, '218339': 0.004243543838241799, '225231': 0.004188730351672025, '234473': 0.004158287975653182, '256001': 0.004103989839984717, '240223': 0.004098176551505671, '229439': 0.004096465736658956, '243773': 0.0040857245572182305, '197112': 0.004061262504890105, '228774': 0.004050468761291216}, 'extended_pk': {'244000': 0.006154582212365959, '218339': 0.006139063766001171, '225231': 0.005936980867377964, '214554': 0.005858344284742219, '243773': 0.005838171503637826, '243766': 0.005830932923590519, '197112': 0.005774247889795474, '225431': 0.005765325490590679, '256001': 0.00574961233667473, '234473': 0.005747846699621292}}}\n"
     ]
    }
   ],
   "source": [
    "#(b)\n",
    "\n",
    "#undirected_page_rank(q,I,k,args)\n",
    "\n",
    "graph.FUNCTIONALITY = 'b'\n",
    "graph.TOPIC = 'R101'\n",
    "graph.main()\n",
    "\n",
    "#pr_values = undirected_page_rank(classification_results[TOPIC], D=docs['test'], p=10, sim=cosine_similarity,\n",
    "                                             #th=threshold, priors = 'classification')\n",
    "#print({TOPIC: pr_values})'''"
   ]
  },
  {
   "cell_type": "markdown",
   "metadata": {},
   "source": [
    "__@input:__\n",
    "\n",
    "__q__ is a string representing a document\n",
    "\n",
    "__D__: *dict* w/ structure:\n",
    "\n",
    "    {\n",
    "        \"itemid\": {\n",
    "            \"headline\": \"(headline text)\",\n",
    "            \"p\": \"(p text)\",\n",
    "            \"dateline\": \"(dateline text)\",\n",
    "            \"byline\": \"(byline text)\"\n",
    "        },\n",
    "        ...\n",
    "    }\n",
    "    \n",
    "__p__ is an integer representing the top-p documents retrieved & respective ranks\n",
    "\n",
    "* __similarity__: *Cosine Similarity*;\n",
    "    \n",
    "* __theta__: *0.5*\n",
    "    \n",
    "__args__:\n",
    "\n",
    "* \n",
    "__priors__: string representing the type of priors *classification* or *baseline*, where the classification priors represent the scores from the classifier of section 2 and the baseline represent a BM25 normalized ranking score from first delivery.\n",
    "\n",
    "__@output__: dictionary with 2 keys *vanilla* and *extended_pk*, with the top-p scores for each key."
   ]
  },
  {
   "cell_type": "markdown",
   "metadata": {
    "pycharm": {
     "is_executing": true,
     "name": "#%% md\n"
    }
   },
   "source": [
    "Further functionalities to answer the report questions:"
   ]
  },
  {
   "cell_type": "markdown",
   "metadata": {},
   "source": [
    "- #### Graph"
   ]
  },
  {
   "cell_type": "markdown",
   "metadata": {
    "pycharm": {
     "is_executing": true,
     "name": "#%% md\n"
    }
   },
   "source": [
    "- Question a)"
   ]
  },
  {
   "cell_type": "code",
   "execution_count": null,
   "metadata": {
    "pycharm": {
     "name": "#%%\n"
    }
   },
   "outputs": [
    {
     "name": "stdout",
     "output_type": "stream",
     "text": [
      "Directory \"rcv1\" already exists, no extraction needed.\n"
     ]
    },
    {
     "name": "stderr",
     "output_type": "stream",
     "text": [
      "READING QRELS       : 100%|██████████| 5127/5127 [00:00<00:00, 1025425.43it/s]\n",
      "READING QRELS       : 100%|██████████| 37556/37556 [00:00<00:00, 1088553.29it/s]"
     ]
    },
    {
     "name": "stdout",
     "output_type": "stream",
     "text": [
      "\n",
      "\n",
      "PARSING TRAIN SET...\n",
      "rcv1_eval_train.json found, loading them...\n",
      "\n",
      "\n",
      "PARSING TEST SET...\n",
      "rcv1_eval_test.json found, loading them...\n"
     ]
    },
    {
     "name": "stderr",
     "output_type": "stream",
     "text": [
      "\n"
     ]
    },
    {
     "name": "stdout",
     "output_type": "stream",
     "text": [
      "Classification results already exist, loading from file (\"classification_results/eval_mlp_tf-idf.json\")...\n",
      "\n",
      "Evaluating models with preprocessing: stemming_stopwords...\n"
     ]
    },
    {
     "name": "stderr",
     "output_type": "stream",
     "text": [
      "C:\\Users\\Tiago\\OneDrive - Universidade de Lisboa\\IST\\PRI\\repo\\PRI\\project\\main.py:116: UserWarning: Skiping indexing, errors will be thrown if checkpoints don't exist\n",
      "  warnings.warn(\"Skiping indexing, errors will be thrown if checkpoints don't exist\")\n"
     ]
    },
    {
     "name": "stdout",
     "output_type": "stream",
     "text": [
      "Indexing time:      0.001s, Indexing space:     87.039mb\n",
      "\n",
      "Evaluating model with scoring: BM25_k1_2,00_b_1,00...\n",
      "Ranking results already exist, loading from file (\"ranking_results/test_stemming_stopwords_BM25_k1_2,00_b_1,00.json\")...\n"
     ]
    },
    {
     "data": {
      "image/png": "[encoded data removed]",
      "text/plain": [
       "<Figure size 432x288 with 1 Axes>"
      ]
     },
     "metadata": {
      "needs_background": "light"
     },
     "output_type": "display_data"
    },
    {
     "name": "stderr",
     "output_type": "stream",
     "text": [
      "CLASSIFYING R101    :   0%|          | 0/100 [00:00<?, ?it/s]"
     ]
    },
    {
     "name": "stdout",
     "output_type": "stream",
     "text": [
      "Retrieval results don't exist, retrieving with model...\n"
     ]
    },
    {
     "name": "stderr",
     "output_type": "stream",
     "text": [
      "CLASSIFYING R101    :   0%|          | 0/100 [00:00<?, ?it/s]          "
     ]
    },
    {
     "name": "stdout",
     "output_type": "stream",
     "text": [
      "Retrieval results don't exist, retrieving with model...\n"
     ]
    },
    {
     "name": "stderr",
     "output_type": "stream",
     "text": [
      "CLASSIFYING R153    :  52%|█████▏    | 52/100 [00:51<00:46,  1.03it/s]"
     ]
    }
   ],
   "source": [
    "import main as p1\n",
    "\n",
    "graph.QUESTION = 'a'\n",
    "graph.FUNCTIONALITY = None\n",
    "graph.main()\n",
    "\n",
    "#compare_graph_to_baseline(docs['test'], topics, topic_index, threshold, priors = 'baseline')\n",
    "#\n",
    "#        graph_results_vanilla = get_pk_results(classification_results, docs['test'], topics, topic_index,\n",
    "#                                               type='vanilla', threshold = threshold, priors = 'baseline')\n",
    "#\n",
    "#        graph_results_extended = get_pk_results(classification_results, docs['test'], topics, topic_index,\n",
    "#                                               type='extended', threshold=threshold, priors='baseline')\n",
    "#\n",
    "#        plot_statistics_for_graph(graph_results_vanilla, pk_type='Vanilla')\n",
    "#        plot_statistics_for_graph(graph_results_extended, pk_type='Personalized')"
   ]
  },
  {
   "cell_type": "markdown",
   "metadata": {
    "pycharm": {
     "name": "#%% md\n"
    }
   },
   "source": [
    "- Question b)"
   ]
  },
  {
   "cell_type": "code",
   "execution_count": null,
   "metadata": {
    "pycharm": {
     "name": "#%%\n"
    }
   },
   "outputs": [],
   "source": [
    "graph.QUESTION = 'b'\n",
    "graph.FUNCTIONALITY = None\n",
    "graph.main()\n",
    "\n",
    "\n",
    "# th_variation_no_priors = plot_variation_threshold(classification_results, docs['test'], topics, topic_index,\n",
    "#                                                  pk_type='vanilla', priors = 'classification')\n",
    "#\n",
    "#        th_variation_priors = plot_variation_threshold(classification_results, docs['test'], topics, topic_index,\n",
    "#                                                pk_type='extended_pk', priors= 'classification')\n",
    "#\n",
    "#        plot_iap_for_models(th_variation_no_priors)\n",
    "#        plot_iap_for_models(th_variation_priors)\n",
    "\n"
   ]
  },
  {
   "cell_type": "markdown",
   "metadata": {},
   "source": [
    "- Question c) "
   ]
  },
  {
   "cell_type": "code",
   "execution_count": null,
   "metadata": {
    "pycharm": {
     "name": "#%%\n"
    }
   },
   "outputs": [],
   "source": [
    "graph.QUESTION = 'c'\n",
    "graph.FUNCTIONALITY = None\n",
    "graph.main()\n",
    "\n",
    "\n",
    "# print(\"Question c: \\n\")\n",
    "#        plot_avg_centrality(docs['test'], sim=cosine_similarity, th=THRESHOLD)"
   ]
  },
  {
   "cell_type": "markdown",
   "metadata": {},
   "source": [
    "- Question d)"
   ]
  },
  {
   "cell_type": "code",
   "execution_count": null,
   "metadata": {
    "pycharm": {
     "name": "#%%\n"
    }
   },
   "outputs": [],
   "source": [
    "graph.QUESTION = 'd'\n",
    "graph.FUNCTIONALITY = None\n",
    "graph.main()\n",
    "\n",
    "#   graph_results_vanilla = get_pk_results(classification_results, docs['test'], topics, topic_index,\n",
    "#                                               type='vanilla', threshold=THRESHOLD, priors = 'baseline')\n",
    "#        graph_results_personalized = get_pk_results(classification_results, docs['test'], topics, topic_index,\n",
    "#                                                    type='extended', threshold=THRESHOLD, priors = 'baseline')\n",
    "#        plot_iap_for_models({'vanilla': graph_results_vanilla, 'personalized': graph_results_personalized})\n",
    "#"
   ]
  },
  {
   "cell_type": "markdown",
   "metadata": {},
   "source": [
    "#Further functionalities implemented if thats the case\n",
    "\n",
    "#text processing options (e.g. absence versus presence of phrase extraction); \n",
    "# IR models (including the Boolean, TF-IDF and BM25 models)."
   ]
  },
  {
   "cell_type": "code",
   "execution_count": null,
   "metadata": {
    "pycharm": {
     "name": "#%%\n"
    }
   },
   "outputs": [],
   "source": []
  },
  {
   "cell_type": "markdown",
   "metadata": {},
   "source": [
    "- Question d)"
   ]
  },
  {
   "cell_type": "code",
   "execution_count": null,
   "metadata": {
    "pycharm": {
     "name": "#%%\n"
    }
   },
   "outputs": [],
   "source": [
    "graph.QUESTION = 'd'\n",
    "graph.FUNCTIONALITY = None\n",
    "graph.main()\n",
    "\n",
    "#   graph_results_vanilla = get_pk_results(classification_results, docs['test'], topics, topic_index,\n",
    "#                                               type='vanilla', threshold=THRESHOLD, priors = 'baseline')\n",
    "#        graph_results_personalized = get_pk_results(classification_results, docs['test'], topics, topic_index,\n",
    "#                                                    type='extended', threshold=THRESHOLD, priors = 'baseline')\n",
    "#        plot_iap_for_models({'vanilla': graph_results_vanilla, 'personalized': graph_results_personalized})\n",
    "#"
   ]
  },
  {
   "cell_type": "markdown",
   "metadata": {},
   "source": [
    "#Further functionalities implemented if thats the case\n",
    "\n",
    "#text processing options (e.g. absence versus presence of phrase extraction); \n",
    "# IR models (including the Boolean, TF-IDF and BM25 models)."
   ]
  },
  {
   "cell_type": "code",
   "execution_count": null,
   "metadata": {
    "pycharm": {
     "name": "#%%\n"
    }
   },
   "outputs": [],
   "source": []
  },
  {
   "cell_type": "markdown",
   "metadata": {},
   "source": [
    "- Question d)"
   ]
  },
  {
   "cell_type": "code",
   "execution_count": null,
   "metadata": {
    "pycharm": {
     "name": "#%%\n"
    }
   },
   "outputs": [],
   "source": [
    "QUESTION = 'd'"
   ]
  },
  {
   "cell_type": "markdown",
   "metadata": {
    "pycharm": {
     "is_executing": true
    }
   },
   "source": [
    "#Further functionalities implemented if thats the case\n",
    "\n",
    "#text processing options (e.g. absence versus presence of phrase extraction); \n",
    "# IR models (including the Boolean, TF-IDF and BM25 models)."
   ]
  },
  {
   "cell_type": "code",
   "execution_count": null,
   "metadata": {},
   "outputs": [],
   "source": []
  },
  {
   "cell_type": "markdown",
   "metadata": {},
   "source": [
    "- Question d)"
   ]
  },
  {
   "cell_type": "code",
   "execution_count": null,
   "metadata": {},
   "outputs": [],
   "source": []
  },
  {
   "cell_type": "code",
   "execution_count": null,
   "metadata": {
    "pycharm": {
     "is_executing": true
    }
   },
   "outputs": [],
   "source": [
    "#Further functionalities implemented if thats the case\n",
    "\n",
    "#text processing options (e.g. absence versus presence of phrase extraction); \n",
    "# IR models (including the Boolean, TF-IDF and BM25 models)."
   ]
  },
  {
   "cell_type": "markdown",
   "metadata": {},
   "source": [
    "__@input:__ and __@output__ of each funtion"
   ]
  }
 ],
 "metadata": {
  "kernelspec": {
   "display_name": "Python 3",
   "language": "python",
   "name": "python3"
  },
  "language_info": {
   "codemirror_mode": {
    "name": "ipython",
    "version": 3
   },
   "file_extension": ".py",
   "mimetype": "text/x-python",
   "name": "python",
   "nbconvert_exporter": "python",
   "pygments_lexer": "ipython3",
   "version": "3.7.7"
  }
 },
 "nbformat": 4,
 "nbformat_minor": 4
}